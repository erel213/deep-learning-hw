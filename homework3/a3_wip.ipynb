# 🎯 IMMEDIATE TEST - Run this cell to test your trained model with the fixed generator

print("="*60)
print("🎭 SHAKESPEARE GENERATOR - FIXED VERSION TEST")
print("="*60)

try:
    # Test with different prompts and settings
    test_prompts = [
        "To be or not to be",
        "All the world's a stage",
        "Romeo, Romeo, wherefore art thou",
        "Fair is foul, and foul is fair"
    ]
    
    # Create the fixed generator
    shakespeare_generator = pipeline_fixed(model, tokenizer, k=20)
    
    for i, prompt in enumerate(test_prompts, 1):
        print(f"\n🎭 Test {i}: Starting with '{prompt}'")
        print("-" * 50)
        
        result = shakespeare_generator(
            prompt, 
            max_len=120, 
            min_len=30,
            temperature=0.9,
            stop_on_repeat=True
        )
        
        print(f"Generated: {result}")
        print(f"Length: {len(result)} characters")
        
    print("\n" + "="*60)
    print("✅ Generator test completed! Check if the outputs look reasonable.")
    print("   The text should be:")
    print("   - Longer than just the prompt")
    print("   - Somewhat Shakespeare-like in style")
    print("   - Not repetitive or stuck on one character")
    print("="*60)
    
except Exception as e:
    print(f"❌ Error occurred: {e}")
    print("\nTroubleshooting steps:")
    print("1. Make sure you've run all previous cells")
    print("2. Check that the model training completed successfully")
    print("3. Verify the model and tokenizer are properly initialized")
    import traceback
    traceback.print_exc()## 🔧 GENERATOR FIXES SUMMARY

### Issues Identified in Original Pipeline:

1. **No Stopping Conditions**: The original pipeline ran for exactly `max_len=1024` iterations without any natural stopping points
2. **Excessive Generation**: 1024 characters is too much for testing and can lead to repetitive text
3. **No Repetition Detection**: The model could get stuck generating the same character repeatedly
4. **Missing Temperature Control**: No way to control randomness in generation

### ✅ Fixes Implemented:

1. **`pipeline_fixed()` Function**:
   - Added intelligent stopping conditions (stop on sentence endings)
   - Added repetition detection (stops if same token repeated 5+ times)
   - Added temperature control for better text variety
   - Reduced default max_len to 200 characters
   - Added min_len to ensure reasonable generation length

2. **`top_k_sample_fixed()` Function**:
   - Improved bounds checking (k doesn't exceed vocabulary size)
   - Better error handling

3. **Testing Functions**:
   - `test_pipeline_with_random_model()`: Test pipeline without full training
   - `debug_generation_step_by_step()`: See exactly what the model predicts step by step

### 🚀 How to Use the Fixed Generator:

```python
# Use the fixed pipeline (recommended)
generator_fixed = pipeline_fixed(model, tokenizer, k=15)

# Generate text with better controls
result = generator_fixed(
    'To be or not to be', 
    max_len=150,      # Maximum characters to generate
    min_len=50,       # Minimum characters before checking for stopping
    temperature=0.8,  # Controls randomness (0.1=deterministic, 2.0=very random)
    stop_on_repeat=True  # Stop if repetitive patterns detected
)
print(result)
```

### 🧪 Testing Without Full Training:

The testing functions allow you to verify the pipeline works correctly with a randomly initialized model, which helps debug issues without waiting for training:

```python
# Test with random model (fast debugging)
test_model = test_pipeline_with_random_model(tokenizer, con)

# Debug step-by-step generation
debug_result = debug_generation_step_by_step(model, tokenizer, "To be", num_steps=5)
```

### ⚡ Quick Fix Application:

If you want to test your trained model right now, run this:

```python
# Quick test of the fixed generator with your trained model
generator = pipeline_fixed(model, tokenizer, k=15)
print("Fixed Generator Output:")
print(generator('To be or not to be', max_len=100, temperature=0.8))
```# COMPREHENSIVE TESTING FUNCTIONS

def test_pipeline_with_random_model(tokenizer, config):
    """
    Test the pipeline with a randomly initialized model to verify the generation logic works
    This helps debug pipeline issues without waiting for full training
    """
    print("=== TESTING PIPELINE WITH RANDOM MODEL ===")
    
    # Create a fresh model with random weights
    test_model = GPT2(config)
    test_model.to(config.device)
    test_model.eval()
    
    # Test both original and fixed pipeline
    print("\n1. Testing ORIGINAL pipeline:")
    try:
        generator_orig = pipeline(test_model, tokenizer, k=10)
        result_orig = generator_orig('To be or not to be', max_len=50)  # Reduced max_len for testing
        print(f"Original result length: {len(result_orig)} characters")
        print(f"Original result: '{result_orig[:100]}{'...' if len(result_orig) > 100 else ''}'")
    except Exception as e:
        print(f"Original pipeline failed: {e}")
    
    print("\n2. Testing FIXED pipeline:")
    try:
        generator_fixed = pipeline_fixed(test_model, tokenizer, k=10)
        result_fixed = generator_fixed('To be or not to be', max_len=50, temperature=1.0)
        print(f"Fixed result length: {len(result_fixed)} characters")
        print(f"Fixed result: '{result_fixed[:200]}{'...' if len(result_fixed) > 200 else ''}'")
    except Exception as e:
        print(f"Fixed pipeline failed: {e}")
    
    # Test tokenizer round-trip
    print("\n3. Testing tokenizer round-trip:")
    test_text = "To be or not to be, that is the question"
    encoded = tokenizer.encode(test_text)
    decoded = tokenizer.decode(encoded)
    print(f"Original: '{test_text}'")
    print(f"Encoded: {encoded[:10]}... (length: {len(encoded)})")
    print(f"Decoded: '{decoded}'")
    print(f"Round-trip successful: {test_text == decoded}")
    
    # Test single token generation step
    print("\n4. Testing single generation step:")
    with torch.no_grad():
        x = torch.tensor(tokenizer.encode("To be")).unsqueeze(0).to(config.device)
        logits, _ = test_model(x)
        last_logits = logits[:, -1, :]
        next_token = top_k_sample_fixed(last_logits, k=5)
        next_char = tokenizer.decode([next_token.item()])
        print(f"Input: 'To be'")
        print(f"Next token ID: {next_token.item()}")
        print(f"Next character: '{next_char}'")
        print(f"Logits shape: {logits.shape}")
    
    return test_model

def debug_generation_step_by_step(model, tokenizer, prompt, num_steps=10):
    """Debug generation step by step to see what's happening"""
    print(f"\n=== STEP-BY-STEP GENERATION DEBUG ===")
    print(f"Starting with prompt: '{prompt}'")
    
    model.eval()
    with torch.no_grad():
        x = torch.tensor(tokenizer.encode(prompt)).unsqueeze(0).to(model.config.device)
        print(f"Encoded prompt: {x[0].tolist()}")
        
        for step in range(num_steps):
            # Get model predictions
            logits, _ = model(x)
            last_logits = logits[:, -1, :]
            
            # Get top-k probabilities
            k = 5
            values, indices = torch.topk(last_logits, k)
            probs = torch.softmax(values, dim=-1)
            
            print(f"\nStep {step + 1}:")
            print(f"  Current sequence: '{tokenizer.decode(x[0].tolist())}'")
            print(f"  Top {k} next token probabilities:")
            for i, (idx, prob) in enumerate(zip(indices[0], probs[0])):
                char = tokenizer.decode([idx.item()])
                print(f"    {i+1}. '{char}' (id: {idx.item()}) - prob: {prob.item():.4f}")
            
            # Sample next token
            next_token = top_k_sample_fixed(last_logits, k=k)
            next_char = tokenizer.decode([next_token.item()])
            print(f"  Selected: '{next_char}' (id: {next_token.item()})")
            
            # Add to sequence
            x = torch.cat([x, next_token], dim=1)
        
        final_text = tokenizer.decode(x[0].tolist())
        print(f"\nFinal generated text: '{final_text}'")
        return final_text

# Run the comprehensive test
print("Running comprehensive pipeline tests...")
if 'con' in globals():
    test_model = test_pipeline_with_random_model(tokenizer, con)
    
    # Also test with the trained model
    print("\n" + "="*60)
    print("TESTING WITH TRAINED MODEL")
    print("="*60)
    
    try:
        # Test the trained model step by step
        debug_result = debug_generation_step_by_step(model, tokenizer, "To be", num_steps=5)
        
        # Test the fixed pipeline with the trained model
        print("\n" + "="*40)
        print("FIXED PIPELINE WITH TRAINED MODEL:")
        generator_fixed_trained = pipeline_fixed(model, tokenizer, k=15)
        result = generator_fixed_trained('To be or not to be', max_len=100, temperature=0.8)
        print(f"Result: '{result}'")
        print(f"Length: {len(result)} characters")
        
    except Exception as e:
        print(f"Error with trained model: {e}")
        import traceback
        traceback.print_exc()
        
else:
    print("Config 'con' not found. Please run the config cell first.")# TESTING FUNCTION FOR PIPELINE WITHOUT FULL TRAINING
def test_pipeline_with_random_model(tokenizer, config):
    """
    Test the pipeline with a randomly initialized model to verify the generation logic works
    This helps debug pipeline issues without waiting for full training
    """
    print("=== TESTING PIPELINE WITH RANDOM MODEL ===")
    
    # Create a fresh model with random weights
    test_model = GPT2(config)
    test_model.to(config.device)
    test_model.eval()
    
    # Test both original and fixed pipeline
    print("\n1. Testing ORIGINAL pipeline:")
    try:
        generator_orig = pipeline(test_model, tokenizer, k=10)
        result_orig = generator_orig('To be or not to be', max_len=50)  # Reduced max_len for testing
        print(f"Original result length: {len(result_orig)} characters")
        print(f"Original result: '{result_orig[:100]}{'...' if len(result_orig) > 100 else ''}'")
    except Exception as e:
        print(f"Original pipeline failed: {e}")
    
    print("\n2. Testing FIXED pipeline:")
    try:
        generator_fixed = pipeline_fixed(test_model, tokenizer, k=10)
        result_fixed = generator_fixed('To be or not to be', max_len=50, temperature=1.0)
        print(f"Fixed result length: {len(result_fixed)} characters")
        print(f"Fixed result: '{result_fixed[:200]}{'...' if len(result_fixed) > 200 else ''}'")
    except Exception as e:
        print(f"Fixed pipeline failed: {e}")
    
    # Test tokenizer round-trip
    print("\n3. Testing tokenizer round-trip:")
    test_text = "To be or not to be, that is the question"
    encoded = tokenizer.encode(test_text)
    decoded = tokenizer.decode(encoded)
    print(f"Original: '{test_text}'")
    print(f"Encoded: {encoded[:10]}... (length: {len(encoded)})")
    print(f"Decoded: '{decoded}'")
    print(f"Round-trip successful: {test_text == decoded}")
    
    # Test single token generation step
    print("\n4. Testing single generation step:")
    with torch.no_grad():
        x = torch.tensor(tokenizer.encode("To be")).unsqueeze(0).to(config.device)
        logits, _ = test_model(x)
        last_logits = logits[:, -1, :]
        next_token = top_k_sample_fixed(last_logits, k=5)
        next_char = tokenizer.decode([next_token.item()])
        print(f"Input: 'To be'")
        print(f"Next token ID: {next_token.item()}")
        print(f"Next character: '{next_char}'")
        print(f"Logits shape: {logits.shape}")
    
    return test_model

# Run the test
if 'con' in globals():
    test_model = test_pipeline_with_random_model(tokenizer, con)
else:
    print("Config 'con' not found. Please run the config cell first.")# FIXED PIPELINE FUNCTION
def pipeline_fixed(model, tokenizer, k=10):
    """
    Create a text generation pipeline for the given model and tokenizer.
    Args:
        model: The trained model instance
        tokenizer: The tokenizer instance
        k: Number of top-k tokens to sample from at each step (default: 10)
    Returns: A function that takes a prompt and generates text
    """
    def generate(prompt, max_len=200, min_len=50, temperature=0.8, stop_on_repeat=True):
        model.eval()
        with torch.no_grad():
            # Encode the prompt
            x = torch.tensor(tokenizer.encode(prompt)).unsqueeze(0).to(model.config.device)
            original_len = x.size(1)
            
            # Track for repetition detection
            last_tokens = []
            repeat_count = 0
            
            # Generate tokens
            for i in range(max_len):
                # Limit sequence length to block_size for efficiency
                if x.size(1) >= model.config.block_size:
                    x = x[:, -model.config.block_size:]
                
                # Get model predictions
                logits, _ = model(x)
                
                # Extract logits for the last token and apply temperature
                last_token_logits = logits[:, -1, :] / temperature
                
                # Apply top k sampling
                next_token = top_k_sample_fixed(last_token_logits, k)
                
                # Check for repetition (stop if same token repeated too many times)
                token_val = next_token.item()
                if stop_on_repeat:
                    if len(last_tokens) > 0 and token_val == last_tokens[-1]:
                        repeat_count += 1
                        if repeat_count > 5:  # Stop if same token repeated 5 times
                            break
                    else:
                        repeat_count = 0
                    
                    # Keep track of last few tokens
                    last_tokens.append(token_val)
                    if len(last_tokens) > 10:
                        last_tokens.pop(0)
                
                # Append the new token
                x = torch.cat([x, next_token], dim=1)
                
                # Stop if we've generated a reasonable amount and hit certain characters
                if i >= min_len:
                    # Stop on period, exclamation, or question mark followed by space
                    current_text = tokenizer.decode(x[0, original_len:].tolist())
                    if any(ending in current_text[-3:] for ending in ['. ', '! ', '? ', '\n\n']):
                        break
            
            # Decode only the generated part (excluding the original prompt)
            generated_tokens = x[0, original_len:].tolist()
            generated_text = tokenizer.decode(generated_tokens)
            return prompt + generated_text
    
    return generate

def top_k_sample_fixed(logits, k=50):
    """Improved top-k sampling function with better handling"""
    # Ensure k doesn't exceed vocabulary size
    k = min(k, logits.size(-1))
    
    # Get top k values and indices
    values, indices = torch.topk(logits, k, dim=-1)
    
    # Apply softmax to get probabilities
    probs = torch.softmax(values, dim=-1)
    
    # Sample from the top-k distribution
    next_token_idx = torch.multinomial(probs, num_samples=1)
    
    # Use gather to select the actual token index
    next_token = indices.gather(-1, next_token_idx)
    
    return next_token

# Test the fixed generator
generator_fixed = pipeline_fixed(model, tokenizer, k=15)
print("=== FIXED GENERATOR TEST ===")
test_result = generator_fixed('To be or not to be', max_len=150, temperature=0.8)
print(test_result)
print("\n" + "="*50){
  "cells": [
    {
      "cell_type": "markdown",
      "id": "5a9cc8f0",
      "metadata": {
        "id": "5a9cc8f0"
      },
      "source": [
        "# Assingment 3: Shaikspear Generator"
      ]
    },
    {
      "cell_type": "markdown",
      "id": "ad0ef68b",
      "metadata": {
        "id": "ad0ef68b"
      },
      "source": [
        "## Introduction\n",
        "\n",
        "Your task is to build a transformer model from scratch and train it on Shakespeare's works. By the end of this assignment, you'll implement the core concepts behind transformers - the architecture that powers modern language models like GPT, BERT, and many others.\n",
        "\n",
        "### Overview of Transformer Architecture\n",
        "\n",
        "Transformers revolutionized natural language processing by introducing the self-attention mechanism, which allows the model to process all positions in a sequence simultaneously, rather than sequentially like RNNs. The key innovations include:\n",
        "\n",
        "1. **Self-Attention**: Allows each position to attend to all positions in the previous layer\n",
        "2. **Multi-Head Attention**: Runs multiple attention operations in parallel\n",
        "3. **Positional Encoding**: Adds information about the position of tokens in the sequence\n",
        "4. **Feed-Forward Networks**: Processes the attended features\n",
        "5. **Layer Normalization**: Stabilizes training of deep networks\n",
        "6. **Residual Connections**: Helps with gradient flow in deep networks\n",
        "\n",
        "### What We're Building\n",
        "\n",
        "We'll implement a simplified GPT2-style (decoder-only) transformer that can:\n",
        "- Take a sequence of Shakespeare text as input\n",
        "- Predict the next character or word in the sequence\n",
        "- Generate new text in Shakespeare's style\n",
        "\n",
        "Let's begin by setting up our environment and loading the Shakespeare dataset!"
      ]
    },
    {
      "cell_type": "markdown",
      "id": "542f4bcb",
      "metadata": {
        "id": "542f4bcb"
      },
      "source": [
        "## Your Tasks\n",
        "\n",
        "Complete all the **TODO** sections in the provided code to build a working transformer model that can generate Shakespeare-style text.\n",
        "\n",
        "### Step-by-Step Instructions\n",
        "\n",
        "#### 1. **Read and Understand First**\n",
        "- **Before coding anything**, carefully read through the entire notebook\n",
        "- Pay special attention to the explanatory sections that describe:\n",
        "  - How transformers work\n",
        "  - The difference between encoder and decoder architectures\n",
        "  - The role of attention mechanisms\n",
        "  - Why we use masking in decoder blocks\n",
        "\n",
        "#### 2. **Complete the TODO Tasks in Order**\n",
        "\n",
        "**TODO 1: Character Tokenizer** (`CharacterTokenizer` class)\n",
        "- Implement character-to-index and index-to-character mappings\n",
        "- Create `encode()` and `decode()` methods\n",
        "- Test your tokenizer works correctly\n",
        "\n",
        "**TODO 2: Dataset Preparation**\n",
        "- Convert text to tensor format\n",
        "- Understand the input-target relationship for next-token prediction\n",
        "\n",
        "**TODO 3: Dataset Class** (`ShakespeareDataset`)\n",
        "- Implement `__getitem__()` method to generate training sequences\n",
        "- Ensure proper input-target shifting (input: \"To be or\", target: \"o be or \")\n",
        "\n",
        "**TODO 4: Multi-Layer Perceptron** (`Mlp` class)\n",
        "- Build a simple feed-forward network\n",
        "- Use GELU activation and proper dimensions (embed_size → 4*embed_size → embed_size)\n",
        "\n",
        "**TODO 5: Self-Attention Block** (`SelfAttentionBlock`)\n",
        "- **This is the most complex part** - implement the complete attention mechanism:\n",
        "  - Generate Query, Key, Value matrices\n",
        "  - Reshape for multi-head processing\n",
        "  - Compute attention scores and apply causal masking\n",
        "  - Apply softmax and combine with values\n",
        "  - Concatenate multi-head results and project output\n",
        "- Follow the detailed step-by-step guide provided in the comments\n",
        "\n",
        "**TODO 6: Transformer Block** (`Block` class)\n",
        "- Combine attention and MLP with residual connections\n",
        "- Apply layer normalization correctly\n",
        "\n",
        "**TODO 7: Full GPT-2 Model** (`GPT2` class)\n",
        "- Implement the complete forward pass\n",
        "- Combine token embeddings, positional embeddings, transformer blocks, and output projection\n",
        "- Handle loss computation for training\n",
        "\n",
        "**TODO 8: Text Generation Pipeline** (`pipeline` function)\n",
        "- Implement top-k sampling for text generation\n",
        "- Handle autoregressive generation (one token at a time)\n",
        "\n",
        "# 3. **Explain your code**\n",
        "- After completing each section, write in a markdown section with an explanation of how your code works and why you made certain design choices\n",
        "\n",
        "\n",
        "### Success Criteria\n",
        "\n",
        "You'll know you're successful when:\n",
        "- [ ] All TODO sections are completed without errors\n",
        "- [ ] The model trains successfully (loss decreases over time)\n",
        "- [ ] Generated text resembles Shakespeare's style (Dont expect perfection, It should be english text with some Shakespearean flair, probably with some nonsense or non coherent phrases)\n",
        "- [ ] You can explain how each component works\n",
        "\n",
        "### 💡 Learning Goals\n",
        "\n",
        "By the end of this assignment, you should understand:\n",
        "- How transformers process sequential data\n",
        "- The role of attention in capturing relationships between tokens\n",
        "- Why masking is crucial for autoregressive models\n",
        "- How modern language models generate text\n",
        "- The architecture behind models like GPT, Claude, and ChatGPT\n",
        "\n",
        "Remember: This assignment is about understanding, not just completing code. Take your time to read and comprehend each section before implementing the TODOs."
      ]
    },
    {
      "cell_type": "code",
      "execution_count": 1,
      "id": "6a1d0dbe",
      "metadata": {
        "colab": {
          "base_uri": "https://localhost:8080/"
        },
        "id": "6a1d0dbe",
        "outputId": "a7110c62-517e-4f4f-a595-4357dfabe1f9"
      },
      "outputs": [
        {
          "data": {
            "text/plain": [
              "<torch._C.Generator at 0x7df759ad3f90>"
            ]
          },
          "execution_count": 1,
          "metadata": {},
          "output_type": "execute_result"
        }
      ],
      "source": [
        "# imports\n",
        "import torch\n",
        "from torch.utils.data import Dataset, DataLoader\n",
        "from torch import nn\n",
        "import torch.nn.functional as F\n",
        "import kagglehub\n",
        "import os\n",
        "import pandas as pd\n",
        "import matplotlib.pyplot as plt\n",
        "from tqdm import tqdm\n",
        "import time\n",
        "import numpy as np\n",
        "from collections import Counter, deque\n",
        "from torch.utils.tensorboard import SummaryWriter\n",
        "import multiprocessing\n",
        "\n",
        "torch.manual_seed(42)"
      ]
    },
    {
      "cell_type": "markdown",
      "id": "8607a766",
      "metadata": {
        "id": "8607a766"
      },
      "source": [
        "## Load  shakespeare.text file"
      ]
    },
    {
      "cell_type": "code",
      "execution_count": 2,
      "id": "3794e0a2",
      "metadata": {
        "colab": {
          "base_uri": "https://localhost:8080/"
        },
        "id": "3794e0a2",
        "outputId": "a051ace1-b75a-49d9-9d52-6e47d9f53827"
      },
      "outputs": [
        {
          "name": "stdout",
          "output_type": "stream",
          "text": [
            "Downloading from https://www.kaggle.com/api/v1/datasets/download/mohammedmohsen0404/shakespeare-txt?dataset_version_number=1...\n"
          ]
        },
        {
          "name": "stderr",
          "output_type": "stream",
          "text": [
            "100%|██████████| 2.32M/2.32M [00:00<00:00, 151MB/s]"
          ]
        },
        {
          "name": "stdout",
          "output_type": "stream",
          "text": [
            "Extracting files...\n",
            "Length of text: 6347703 characters\n",
            "Number of unique characters: 83\n",
            "First 100 characters:\n",
            "﻿1603\n",
            "\n",
            "ALLS WELL THAT ENDS WELL\n",
            "\n",
            "by William Shakespeare\n",
            "\n",
            "Dramatis Personae\n",
            "\n",
            "  KING OF FRANCE\n",
            "  THE D\n"
          ]
        },
        {
          "name": "stderr",
          "output_type": "stream",
          "text": [
            "\n"
          ]
        }
      ],
      "source": [
        "path = kagglehub.dataset_download(\"mohammedmohsen0404/shakespeare-txt\")\n",
        "f_name = 'shakespeare.txt'\n",
        "with open(path + '/' + f_name, \"r\") as f:\n",
        "    text = f.read()\n",
        "\n",
        "print(f\"Length of text: {len(text)} characters\")\n",
        "print(f\"Number of unique characters: {len(set(text))}\")\n",
        "print(f\"First 100 characters:\\n{text[:100]}\")"
      ]
    },
    {
      "cell_type": "markdown",
      "id": "0a73ad71",
      "metadata": {
        "id": "0a73ad71"
      },
      "source": [
        "## Data Preparation"
      ]
    },
    {
      "cell_type": "markdown",
      "id": "84578904",
      "metadata": {
        "id": "84578904"
      },
      "source": [
        "# Dataset Encoding and Tokenization\n",
        "\n",
        "## Understanding Text Encoding for Transformers\n",
        "\n",
        "Before we can feed text into our transformer model, we need to convert it into numerical representations. This process involves:\n",
        "1. **Tokenization**: Breaking text into smaller units (characters, subwords, or words)\n",
        "2. **Vocabulary Building**: Creating a mapping between tokens and unique integers\n",
        "3. **Encoding**: Converting text sequences into sequences of integers\n",
        "4. **Decoding**: Converting integer sequences back to readable text\n",
        "\n",
        "### Character-Level vs Word-Level Tokenization\n",
        "\n",
        "For this assignment, we'll use **character-level tokenization**\n",
        "\n",
        "\n",
        "Let's create a simple character-level tokenizer:\n",
        "\n"
      ]
    },
    {
      "cell_type": "code",
      "execution_count": 3,
      "id": "d7918b20",
      "metadata": {
        "colab": {
          "base_uri": "https://localhost:8080/"
        },
        "id": "d7918b20",
        "outputId": "24d79a35-16c1-46f1-e1c8-86db8cbbe1f7"
      },
      "outputs": [
        {
          "name": "stdout",
          "output_type": "stream",
          "text": [
            "Tokenizer vocab_size: 83\n",
            "Original: To be or not to be\n",
            "Encoded: [45, 69, 1, 56, 59, 1, 69, 72, 1, 68, 69, 74, 1, 74, 69, 1, 56, 59]\n",
            "Decoded: To be or not to be\n"
          ]
        }
      ],
      "source": [
        "class CharacterTokenizer:\n",
        "    def __init__(self, text):\n",
        "        \"\"\"\n",
        "        Initialize tokenizer by building vocabulary from input text.\n",
        "\n",
        "        Args:\n",
        "            text: String containing all training text\n",
        "        \"\"\"\n",
        "        # Get all unique characters and sort them\n",
        "        self.chars = sorted(list(set(text)))\n",
        "        self.vocab_size = len(self.chars)\n",
        "\n",
        "\n",
        "        ## TODO: Create a mapping from characters to indices and vice versa via a simple dictionary\n",
        "        self.char_to_idx = {char: idx for idx, char in enumerate(self.chars)}\n",
        "        self.idx_to_char = {idx: char for idx, char in enumerate(self.chars)}\n",
        "\n",
        "\n",
        "    def encode(self, text):\n",
        "        \"\"\"Convert string to list of integers\"\"\"\n",
        "        ## TODO: Apply the mapping from characters to indices\n",
        "        return [self.char_to_idx[char] for char in text]\n",
        "\n",
        "    def decode(self, indices):\n",
        "        \"\"\"Convert list of integers back to string\"\"\"\n",
        "        ## TODO: Apply the mapping from indices to characters\n",
        "        return ''.join([self.idx_to_char[idx] for idx in indices])\n",
        "\n",
        "    def __len__(self):\n",
        "        \"\"\"Return the size of the vocabulary\"\"\"\n",
        "        return self.vocab_size\n",
        "\n",
        "# Assuming your text is loaded in a variable called 'text'\n",
        "# Create the tokenizer\n",
        "tokenizer = CharacterTokenizer(text)\n",
        "\n",
        "# Test encoding and decoding\n",
        "sample_text = \"To be or not to be\"\n",
        "encoded = tokenizer.encode(sample_text)\n",
        "decoded = tokenizer.decode(encoded)\n",
        "\n",
        "print(\"Tokenizer vocab_size:\", len(tokenizer))\n",
        "print(f\"Original: {sample_text}\")\n",
        "print(f\"Encoded: {encoded}\")\n",
        "print(f\"Decoded: {decoded}\")\n",
        "\n",
        "\n"
      ]
    },
    {
      "cell_type": "code",
      "execution_count": 4,
      "id": "a55cc32e",
      "metadata": {
        "colab": {
          "base_uri": "https://localhost:8080/",
          "height": 571
        },
        "id": "a55cc32e",
        "outputId": "26ca9eea-3a7c-4957-9f32-9ad17d81d5c1"
      },
      "outputs": [
        {
          "data": {
            "image/png": "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",
            "text/plain": [
              "<Figure size 1200x600 with 1 Axes>"
            ]
          },
          "metadata": {},
          "output_type": "display_data"
        }
      ],
      "source": [
        "# plot the distribution of character frequencies\n",
        "char_counts = Counter(text)\n",
        "def plot_char_distribution(char_counts):\n",
        "    \"\"\"Plot the distribution of character frequencies.\"\"\"\n",
        "    chars, counts = zip(*char_counts.most_common(30))  # Get top 30 characters\n",
        "    plt.figure(figsize=(12, 6))\n",
        "    plt.bar(chars, counts)\n",
        "    plt.xlabel('Characters')\n",
        "    plt.ylabel('Frequency')\n",
        "    plt.title('Character Frequency Distribution')\n",
        "    plt.xticks(rotation=45)\n",
        "    plt.show()\n",
        "plot_char_distribution(char_counts)\n",
        "\n",
        "\n"
      ]
    },
    {
      "cell_type": "markdown",
      "id": "460ab122",
      "metadata": {
        "id": "460ab122"
      },
      "source": [
        "Now let's prepare our dataset for training:"
      ]
    },
    {
      "cell_type": "code",
      "execution_count": 5,
      "id": "2827f00c",
      "metadata": {
        "colab": {
          "base_uri": "https://localhost:8080/"
        },
        "id": "2827f00c",
        "outputId": "37bc364d-c033-4e39-a083-8b8cb24ab73c"
      },
      "outputs": [
        {
          "name": "stdout",
          "output_type": "stream",
          "text": [
            "Dataset shape: torch.Size([6347703])\n",
            "Training set size: 5,712,932 characters\n",
            "Validation set size: 634,771 characters\n"
          ]
        }
      ],
      "source": [
        "\n",
        "## TODO: Create a torch tensor from the encoded text\n",
        "# data = ....\n",
        "data = torch.tensor(tokenizer.encode(text))\n",
        "print(f\"Dataset shape: {data.shape}\")\n",
        "\n",
        "# Split into train and validation sets (90/10 split)\n",
        "n = int(0.9 * len(data))\n",
        "train_data = data[:n]\n",
        "val_data = data[n:]\n",
        "\n",
        "print(f\"Training set size: {len(train_data):,} characters\")\n",
        "print(f\"Validation set size: {len(val_data):,} characters\")\n"
      ]
    },
    {
      "cell_type": "markdown",
      "id": "186d1029",
      "metadata": {
        "id": "186d1029"
      },
      "source": [
        "# Understanding Sequence Generation in Transformers\n",
        "\n",
        "## What is a Transformer Trained to Do?\n",
        "\n",
        "At its core, a transformer language model is trained to perform **next-token prediction**. This simple objective - predicting what comes next - enables the model to generate coherent text, understand language patterns, and even appear to \"understand\" context.\n",
        "\n",
        "### The Autoregressive Nature of Language Modeling\n",
        "\n",
        "Transformers for text generation are **autoregressive**, meaning they generate text one token at a time, using previously generated tokens as context for predicting the next one.\n",
        "\n",
        "```\n",
        "Given: \"To be or not to\"\n",
        "Predict: \"be\" (next token)\n",
        "\n",
        "Given: \"To be or not to be\"  \n",
        "Predict: \",\" (next token)\n",
        "\n",
        "Given: \"To be or not to be,\"\n",
        "Predict: \"that\" (next token)\n",
        "```\n",
        "\n",
        "### Training vs Generation: Two Different Processes\n",
        "\n",
        "#### During Training (Assume not a character-level tokenizer for simplicity....)\n",
        "```python\n",
        "# Training sees the full correct sequence\n",
        "Input:  [\"To\", \"be\", \"or\", \"not\", \"to\", \"be\", \",\", \"that\"]\n",
        "Target: [\"be\", \"or\", \"not\", \"to\", \"be\", \",\", \"that\", \"is\"]\n",
        "\n",
        "# The model learns in parallel:\n",
        "Position 0: Given \"To\" → predict \"be\"\n",
        "Position 1: Given \"To be\" → predict \"or\"\n",
        "Position 2: Given \"To be or\" → predict \"not\"\n",
        "... (all positions simultaneously)\n",
        "```\n",
        "\n",
        "#### During Generation (Autoregressive)\n",
        "```python\n",
        "# Generation builds up token by token\n",
        "Step 1: Input: \"To\" → Model predicts: \"be\"\n",
        "Step 2: Input: \"To be\" → Model predicts: \"or\"  \n",
        "Step 3: Input: \"To be or\" → Model predicts: \"not\"\n",
        "... (sequential generation)\n",
        "```\n",
        "\n",
        "### The Probability Distribution\n",
        "\n",
        "At each step, the transformer doesn't just predict one token - it outputs a **probability distribution** over the entire vocabulary:\n",
        "\n",
        "```python\n",
        "# Example output probabilities after \"To be or not to\"\n",
        "{\n",
        "    \"be\": 0.7,      # High probability - this phrase often repeats\n",
        "    \"die\": 0.1,     # Possible alternative\n",
        "    \"sleep\": 0.05,  # Another thematic alternative\n",
        "    \"live\": 0.03,   # Less likely but possible\n",
        "    \",\": 0.02,      # Could end the phrase here\n",
        "    ... (probabilities for all tokens in vocabulary)\n",
        "}\n",
        "```\n",
        "\n",
        "\n",
        "\n",
        "### Context Window and Attention\n",
        "\n",
        "The transformer's **context window** (block_size) determines how much previous text it can \"see\" when making predictions:\n",
        "\n",
        "### What the Model Actually Learns\n",
        "\n",
        "Through next-token prediction, the transformer learns:\n",
        "\n",
        "1. **Syntax and Grammar**\n",
        "   - \"To be or\" → likely followed by \"not\"\n",
        "   - Verb conjugations, sentence structure\n",
        "\n",
        "2. **Semantic Relationships**\n",
        "   - \"king\" often appears near \"queen\", \"throne\", \"crown\"\n",
        "   - Thematic consistency within passages\n",
        "\n",
        "3. **Style and Register**\n",
        "   - Shakespearean vocabulary and phrasing\n",
        "   - Iambic pentameter patterns\n",
        "   - Archaic grammatical structures\n",
        "\n",
        "4. **Long-range Dependencies**\n",
        "   - Rhyme schemes across lines\n",
        "   - Character names and relationships\n",
        "   - Plot consistency\n",
        "\n"
      ]
    },
    {
      "cell_type": "markdown",
      "id": "8a8054fc",
      "metadata": {
        "id": "8a8054fc"
      },
      "source": [
        "In this assinigment, we train the model to predict the next character given the previous characters:\n",
        "- **Input**: \"To be or\"\n",
        "- **Target**: \"o be or \"\n",
        "In the above exmpale there are 8 trainig examples:\n",
        "1. 'T' -> 'o'\n",
        "2. 'To' -> ' '\n",
        "3. 'To ' -> 'b'\n",
        "4. 'To b' -> 'e'\n",
        "5. 'To be' -> ' '\n",
        "6. 'To be o' -> 'r'\n",
        "8. 'To be or' -> ' '\n",
        "\n",
        "Pay attention that the transformer will process all of them simultaneously, allowing it to learn the relationships between characters and their positions in the sequence. Also notice how the target is shifted by one position. This teaches the model to predict what comes next.\n",
        "\n",
        "Lets create a torch Dataset that generates these input-target pairs from our text data."
      ]
    },
    {
      "cell_type": "code",
      "execution_count": 6,
      "id": "18c85788",
      "metadata": {
        "id": "18c85788"
      },
      "outputs": [],
      "source": [
        "class ShakespeareDataset(Dataset):\n",
        "    \"\"\"\n",
        "    PyTorch Dataset for Shakespeare text data.\n",
        "    Generates overlapping sequences for language modeling.\n",
        "    \"\"\"\n",
        "\n",
        "    def __init__(self, data, block_size):\n",
        "        \"\"\"\n",
        "        Args:\n",
        "            data: Tensor of encoded text tokens\n",
        "            block_size: Length of each sequence (context length)\n",
        "        \"\"\"\n",
        "        self.data = data\n",
        "        self.block_size = block_size\n",
        "\n",
        "        # Calculate number of possible sequences\n",
        "        self.num_sequences = len(data) - block_size\n",
        "\n",
        "        if self.num_sequences <= 0:\n",
        "            raise ValueError(f\"Data length ({len(data)}) must be greater than block_size ({block_size})\")\n",
        "\n",
        "    def __len__(self):\n",
        "        \"\"\"Return the number of possible sequences\"\"\"\n",
        "        return self.num_sequences\n",
        "\n",
        "    def __getitem__(self, idx):\n",
        "        \"\"\"\n",
        "        Get a single sequence and its target.\n",
        "\n",
        "        Args:\n",
        "            idx: Index of the sequence start position\n",
        "\n",
        "        Returns:\n",
        "            tuple: (input_sequence, target_sequence)\n",
        "        \"\"\"\n",
        "        ## TODO: implement the batch generation logic\n",
        "        return self.data[idx:idx+self.block_size], self.data[idx+1:idx+self.block_size+1]"
      ]
    },
    {
      "cell_type": "markdown",
      "id": "4c33da7f",
      "metadata": {
        "id": "4c33da7f"
      },
      "source": [
        "### Example Dataset Class"
      ]
    },
    {
      "cell_type": "code",
      "execution_count": 7,
      "id": "f195c043",
      "metadata": {
        "colab": {
          "base_uri": "https://localhost:8080/"
        },
        "id": "f195c043",
        "outputId": "e6d9c555-4404-4763-c787-1d541f82f1ee"
      },
      "outputs": [
        {
          "name": "stdout",
          "output_type": "stream",
          "text": [
            "Training sequences available: 5,712,804\n",
            "Validation sequences available: 634,643\n",
            "==================================================\n",
            "Example of a training batch instance:\n",
            "\n",
            "Input:  'urg'd by the sequent effects. Love cools,\n",
            "     friendship falls off, brothers divide. In cities, mutinies; in  \n",
            "     countries, '\n",
            "==================================================\n",
            "Target: 'rg'd by the sequent effects. Love cools,\n",
            "     friendship falls off, brothers divide. In cities, mutinies; in  \n",
            "     countries, d'\n"
          ]
        }
      ],
      "source": [
        "num_workers = 2\n",
        "shuffle_train = True\n",
        "block_size = 128\n",
        "batch_size = 16\n",
        "train_dataset = ShakespeareDataset(train_data, block_size)\n",
        "val_dataset = ShakespeareDataset(val_data, block_size)\n",
        "\n",
        "print(f\"Training sequences available: {len(train_dataset):,}\")\n",
        "print(f\"Validation sequences available: {len(val_dataset):,}\")\n",
        "print(\"=\" * 50)\n",
        "\n",
        "# Create dataloaders\n",
        "train_loader = DataLoader(\n",
        "    train_dataset,\n",
        "    batch_size=batch_size,\n",
        "    shuffle=shuffle_train,\n",
        "    num_workers=num_workers,\n",
        "    drop_last=True  # Drop last incomplete batch for consistent batch sizes\n",
        ")\n",
        "\n",
        "val_loader = DataLoader(\n",
        "    val_dataset,\n",
        "    batch_size=batch_size,\n",
        "    shuffle=False,  # Don't shuffle validation data\n",
        "    num_workers=num_workers,\n",
        "    drop_last=False\n",
        ")\n",
        "\n",
        "x, y = next(iter(train_loader))\n",
        "print(\"Example of a training batch instance:\", end='\\n\\n')\n",
        "print(f\"Input:  '{tokenizer.decode(x[0].tolist())}'\") # Decode the first input sequence\n",
        "print(\"=\" * 50)\n",
        "print(f\"Target: '{tokenizer.decode(y[0].tolist())}'\") # Decode the first target sequence"
      ]
    },
    {
      "cell_type": "markdown",
      "id": "1c35756c",
      "metadata": {
        "id": "1c35756c"
      },
      "source": [
        "## Transformer Architecture Overview\n",
        "The transformer is a neural network architecture that revolutionized how AI systems process language. Think of it as a sophisticated pattern-matching system that can understand relationships between words in a sentence, regardless of how far apart they are.\n",
        "\n",
        "**The Core Innovation: Attention**\n",
        "\n",
        "The transformer's key breakthrough is something called \"attention.\" Instead of reading text word-by-word like older systems, transformers look at all words simultaneously and figure out which ones are most relevant to each other. It's like having a conversation where you can instantly consider every word someone has said, not just the most recent ones.\n",
        "\n",
        "**Types of Attention Mechanisms**\n",
        "\n",
        "There are three main types of attention used in transformers:\n",
        "\n",
        "- **Self-Attention(Bidirectional)**: Each position in a sequence attends to all positions in the same sequence. This is like each word asking \"which other words in this sentence are most relevant to understanding me?\"\n",
        "\n",
        "- **Cross-Attention**: Positions in one sequence (like a decoder) attend to positions in a different sequence (like an encoder). This is used in encoder-decoder models where the decoder needs to \"look at\" the encoder's representations while generating output.\n",
        "\n",
        "- **Masked Self-Attention**: A restricted form of self-attention where each position can only attend to previous positions, not future ones. This maintains the causal structure needed for text generation.\n",
        "\n",
        "**How Masking Controls Encoder vs Decoder Behavior**\n",
        "\n",
        "The key difference between encoder and decoder blocks lies in their attention masking:\n",
        "\n",
        "- **Encoder blocks** use **bidirectional self-attention** with no masking. Each token can attend to all other tokens in the sequence, allowing the model to build rich contextual representations by considering the full context.\n",
        "\n",
        "- **Decoder blocks** use **causal masking** (also called autoregressive masking). Each token can only attend to itself and previous tokens, never future ones. This prevents the model from \"cheating\" during training by looking ahead, forcing it to learn to predict the next token based only on what came before.\n",
        "\n",
        "**How It Works**\n",
        "\n",
        "The original transformer has two main parts:\n",
        "- **Encoder**: Takes input text and creates rich representations that capture meaning and context using bidirectional attention\n",
        "- **Decoder**: Uses those representations and generates output text using causal attention plus cross-attention to the encoder\n",
        "\n",
        "Both parts use \"self-attention\" layers that let each word position \"attend to\" or focus on other positions. This creates a web of connections showing which words are most important for understanding each other.\n",
        "\n",
        "**Modern Simplification: Decoder-Only Architecture**\n",
        "\n",
        "However, for many real-world applications, researchers discovered that using only the decoder portion is often sufficient and more efficient. This **decoder-only** approach is what powers popular language models like GPT, Claude, and most modern conversational AI systems. Instead of having separate encoder and decoder stacks, these models use multiple decoder blocks that generate text autoregressively - predicting one token at a time based on all previous tokens using causal masking. This is the architecture we'll be building in this notebook.\n",
        "\n",
        "**Key Components**\n",
        "\n",
        "- **Multi-head attention**: Instead of just one attention mechanism, it runs several in parallel, each potentially focusing on different types of relationships\n",
        "- **Feed-forward networks**: Simple neural networks that process the attention outputs\n",
        "- **Layer normalization and residual connections**: Technical elements that help training stability\n",
        "- **Positional encoding**: Since attention doesn't inherently understand word order, this adds position information\n",
        "\n",
        "**Why It Matters**\n",
        "\n",
        "Transformers can process text in parallel rather than sequentially, making them much faster to train. They're also better at capturing long-range dependencies - understanding how a word at the beginning of a paragraph relates to one at the end. The decoder-only variant proves particularly effective for text generation tasks, as it learns to model the probability distribution of natural language through next-token prediction. The masking mechanism is crucial here - it ensures the model learns proper causal relationships and can generate coherent text without access to future information. This architecture powers modern language models like GPT, BERT, and others that have transformed natural language processing."
      ]
    },
    {
      "cell_type": "markdown",
      "id": "29cef6f9",
      "metadata": {
        "id": "29cef6f9"
      },
      "source": [
        "<img src=\"https://heidloff.net/assets/img/2023/02/transformers.png\">"
      ]
    },
    {
      "cell_type": "markdown",
      "id": "db1a1253",
      "metadata": {
        "id": "db1a1253"
      },
      "source": []
    },
    {
      "cell_type": "markdown",
      "id": "c96452a0",
      "metadata": {
        "id": "c96452a0"
      },
      "source": [
        "### Feed-Forward Network (MLP)\n",
        "Lets start from from simple to complicated. As the diagram shows, the MLP is a simple feed-forward neural network that processes the output of the attention mechanism. In the GPT2 architecture that we are following here it consists of two linear transformations with a GeLU activation in between. The MLp layer streach the dimention of the embedding from `embed_size` to `4*embed_size` and then back to `embed_size`.\n",
        "```python"
      ]
    },
    {
      "cell_type": "markdown",
      "id": "a9efa430",
      "metadata": {
        "id": "a9efa430"
      },
      "source": [
        "### MLP"
      ]
    },
    {
      "cell_type": "code",
      "execution_count": 8,
      "id": "7f2be3ca",
      "metadata": {
        "id": "7f2be3ca"
      },
      "outputs": [],
      "source": [
        "class Mlp(nn.Module):\n",
        "    ## TODO: Implement a simple MLP with two linear layers and GELU activation\n",
        "    def __init__(self, config):\n",
        "        super(Mlp, self).__init__()\n",
        "        self.embed_size = config.embed_size\n",
        "        ## TODO: Define the MLP architecture\n",
        "        self.fc1 = nn.Linear(self.embed_size, 4 * self.embed_size)\n",
        "        self.fc2 = nn.Linear(4 * self.embed_size, self.embed_size)\n",
        "        self.gelu = nn.GELU()\n",
        "\n",
        "    def forward(self, x):\n",
        "        ## TODO: Implement the forward pass\n",
        "        x = self.fc1(x)\n",
        "        x = self.gelu(x)\n",
        "        x = self.fc2(x)\n",
        "        return x"
      ]
    },
    {
      "cell_type": "markdown",
      "id": "f7e9d3a1",
      "metadata": {
        "id": "f7e9d3a1"
      },
      "source": [
        "## Multi Head Masked Self-Attention Implementation\n",
        "\n",
        "The self-attention mechanism is the core of the transformer architecture, allowing the model to weigh the importance of different words in a sequence relative to each other. This guide walks you through completing the provided implementation.\n",
        "\n",
        "### Understanding the Provided Setup\n",
        "\n",
        "You're given a `SelfAttentionBlock` class with the initialization already complete. Here's what's provided:\n",
        "\n",
        "**Linear Layers**:\n",
        "- `self.c_atten`: Creates Q, K, V matrices simultaneously (outputs `3 * head_size * num_heads`)\n",
        "- `self.c_proj`: Final output projection back to embedding size\n",
        "\n",
        "**Causal Mask**:\n",
        "- `self.bias`: Pre-computed lower triangular mask of shape `(1, 1, block_size, block_size)`\n",
        "- Prevents attending to future positions (essential for decoder behavior)\n",
        "\n",
        "**Key Constraint**: `head_size * num_heads = embed_size` (this is verified in the assertion)\n",
        "\n",
        "\n",
        "### Step-by-Step Implementation\n",
        "\n",
        "1. **Input Processing**: Your input tensor `x` has shape `(B, T, C)` where:\n",
        "   - `B` = batch size (number of sequences processed together)\n",
        "   - `T` = sequence length (number of tokens in each sequence)  \n",
        "   - `C` = embedding size (dimension of each token's representation)\n",
        "\n",
        "2. **Generate Q, K, V Matrices**:\n",
        "   - Apply linear transformation: `kqv = self.linear_layer(x)`\n",
        "   - Output shape: `(B, T, 3 * embed_size)`\n",
        "   - Split into three equal parts: `k, q, v = kqv.split(embed_size, dim=2)`\n",
        "   - Each tensor now has shape: `(B, T, embed_size)`\n",
        "\n",
        "3. **Reshape for Multi-Head Attention**: Transform each tensor to separate the attention heads:\n",
        "   - Reshape `k, q, v` tensors: `(B, T, embed_size)` → `(B, T, num_heads, head_size)`\n",
        "   - Transpose dimensions: `(B, T, num_heads, head_size)` → `(B, num_heads, T, head_size)`\n",
        "   - This allows processing all heads in parallel\n",
        "\n",
        "4. **Compute Attention Scores**: Calculate how much each position should attend to others:\n",
        "   - Matrix multiply queries and keys: `scores = q @ k.transpose(-2, -1)`\n",
        "   - Scale by head dimension: `scores = scores / sqrt(head_size)`\n",
        "   - Result shape: `(B, num_heads, T, T)` - each position has scores for all positions\n",
        "\n",
        "5. **Apply Causal Masking**: Prevent attending to future positions:\n",
        "   - Set future positions to negative infinity: `scores.masked_fill(self.mask == 0, float('-inf'))`\n",
        "   - This ensures softmax gives zero probability to future positions\n",
        "\n",
        "6. **Convert to Probabilities**: Apply softmax to get attention weights:\n",
        "   - `attention_weights = softmax(scores, dim=-1)`\n",
        "   - Shape remains: `(B, num_heads, T, T)`\n",
        "   - Each row now sums to 1.0\n",
        "\n",
        "7. **Apply Attention to Values**: Use weights to combine value vectors:\n",
        "   - `output = attention_weights @ v`\n",
        "   - Output shape: `(B, num_heads, T, head_size)`\n",
        "\n",
        "8. **Concatenate Multi-Head Results**: Combine all attention heads:\n",
        "   - Transpose back: `(B, num_heads, T, head_size)` → `(B, T, num_heads, head_size)`\n",
        "   - Reshape to flatten heads: `(B, T, num_heads, head_size)` → `(B, T, embed_size)`\n",
        "   - Ensure tensor is contiguous in memory before reshaping\n",
        "\n",
        "9. **Final Output Projection**: Apply final linear transformation:\n",
        "   - `final_output = self.output_projection(concatenated_output)`\n",
        "   - Input and output both have shape: `(B, T, embed_size)`\n",
        "\n",
        "### Key Implementation Details\n",
        "\n",
        "**Dimension Tracking**: Always verify your tensor shapes at each step. The most common bugs come from incorrect reshaping or matrix multiplication dimensions.\n",
        "\n",
        "**Memory Layout**: Use `.contiguous()` before reshaping operations to ensure proper memory layout.\n",
        "\n",
        "**Masking Strategy**: Pre-compute your causal mask during initialization and store it as a buffer to avoid recomputing it every forward pass.\n",
        "\n",
        "**Scaling Factor**: The `1/sqrt(head_size)` scaling prevents attention scores from becoming too large, which would make gradients vanish after softmax.\n",
        "\n",
        "**Efficient Computation**: Modern frameworks often provide optimized attention functions (like `scaled_dot_product_attention`) that handle steps 4-7 efficiently, but understanding the manual implementation helps you debug and customize the mechanism."
      ]
    },
    {
      "cell_type": "code",
      "execution_count": 9,
      "id": "f163eba3",
      "metadata": {
        "id": "f163eba3"
      },
      "outputs": [],
      "source": [
        "class SelfAttentionBlock(nn.Module):\n",
        "    def __init__(self, config):\n",
        "        super(SelfAttentionBlock, self).__init__()\n",
        "        assert config.embed_size % config.num_heads == 0\n",
        "\n",
        "        # self-attention values (key, query, value). pay attention that head_size * num_heads must be equal to embed_size\n",
        "        self.c_atten = nn.Linear(config.embed_size, 3*config.embed_size) # multiply by 3 to get k, q, v\n",
        "\n",
        "        # output projection\n",
        "        self.c_proj = nn.Linear(config.embed_size, config.embed_size)\n",
        "\n",
        "        self.embed_size = config.embed_size\n",
        "        self.num_heads = config.num_heads\n",
        "\n",
        "        mask = torch.tril(torch.ones(config.block_size, config.block_size)) # Lower triangular mask for causal attention\n",
        "        mask = mask.view(1, 1, config.block_size, config.block_size) # B, 1, T, T\n",
        "        self.register_buffer('mask', mask)  # register_buffer allows the mask to be part of the model state but not a parameter to optimize\n",
        "\n",
        "    def forward(self, x):\n",
        "        #  after each line print the shape of x\n",
        "        \"\"\"        Forward pass for the self-attention block.\n",
        "        Args:\n",
        "            x: Input tensor of shape (B, T, C) where B is batch size, T is sequence length, C is embedding size\n",
        "        Returns:\n",
        "            out: Output tensor of shape (B, T, C) after self-attention and projection\n",
        "        \"\"\"\n",
        "        B, T, C = x.shape # Batch, sequence length, embed_size\n",
        "        ## TODO: Implement the forward pass of the masked multi head self-attention block\n",
        "\n",
        "        # 1. Generate Q, K, V matrices\n",
        "        q, k, v = self.c_atten(x).split(self.embed_size, dim=2)\n",
        "\n",
        "        # 2. Reshape for multi-head attention\n",
        "        head_size = C // self.num_heads\n",
        "        q = q.view(B, T, self.num_heads, head_size).transpose(1, 2)  # (B, num_heads, T, head_size)\n",
        "        k = k.view(B, T, self.num_heads, head_size).transpose(1, 2)  # (B, num_heads, T, head_size)\n",
        "        v = v.view(B, T, self.num_heads, head_size).transpose(1, 2)  # (B, num_heads, T, head_size)\n",
        "\n",
        "        # 3. Compute attention scores\n",
        "        attn = (q @ k.transpose(-2, -1)) * (1.0 / (head_size ** 0.5))  # (B, num_heads, T, T)\n",
        "\n",
        "        # 4. Apply causal masking\n",
        "        attn = attn.masked_fill(self.mask[:, :, :T, :T] == 0, float('-inf'))\n",
        "\n",
        "        # 5. Convert to probabilities\n",
        "        attn = F.softmax(attn, dim=-1)  # (B, num_heads, T, T)\n",
        "\n",
        "        # 6. Apply attention to values\n",
        "        out = attn @ v  # (B, num_heads, T, head_size)\n",
        "\n",
        "        # 7. Concatenate multi-head results\n",
        "        out = out.transpose(1, 2).contiguous().view(B, T, C)  # (B, T, C)\n",
        "\n",
        "        # 8. Final output projection\n",
        "        out = self.c_proj(out)\n",
        "\n",
        "        return out\n",
        "\n"
      ]
    },
    {
      "cell_type": "markdown",
      "id": "62da9c70",
      "metadata": {
        "id": "62da9c70"
      },
      "source": [
        "## Transformer Block\n",
        "\n",
        "The transformer block is a single layer containing two main components: **Multi-Head Attention** followed by **MLP (Multi-Layer Perceptron)**. This layer design gets stacked multiple times to create the full transformer.\n",
        "\n",
        "### Layer Structure\n",
        "\n",
        "**Multi-Head Attention Layer**: Allows each position to gather information from other positions in the sequence. Multiple attention heads work in parallel, each potentially focusing on different types of relationships.\n",
        "\n",
        "**MLP Layer**: Processes each position independently through a feed-forward network, applying learned transformations to refine the representations.\n",
        "\n",
        "### Residual Connections - The Critical Bridge\n",
        "\n",
        "**What Residual Connections Are**: Instead of just passing the output forward, you add the original input back to the output: `output = input + layer(input)`. This creates a direct path for information to flow unchanged.\n",
        "\n",
        "**Why Residual Connections Are Essential**:\n",
        "- **Gradient Flow**: In deep networks, gradients can vanish as they backpropagate through many layers. Residuals provide direct gradient highways.\n",
        "- **Identity Preservation**: The network can learn to keep useful information unchanged by making the layer output close to zero.\n",
        "- **Easier Learning**: The layer only needs to learn the \"difference\" or \"refinement\" rather than completely new representations.\n",
        "- **Stable Training**: Without residuals, very deep transformers become difficult or impossible to train.\n",
        "\n",
        "### Layer-by-Layer Processing\n",
        "\n",
        "**First Layer - Multi-Head Attention**:\n",
        "1. Normalize the input\n",
        "2. Apply multi-head attention to capture inter-position relationships  \n",
        "3. Add the original input back (residual connection)\n",
        "\n",
        "**Second Layer - MLP**:\n",
        "1. Normalize the current representations\n",
        "2. Apply feed-forward transformations to each position\n",
        "3. Add the pre-MLP representations back (residual connection)\n",
        "\n",
        "The residual connections ensure that even in a 50-layer transformer, information and gradients can flow directly from the first layer to the last, enabling the training of very deep and powerful models."
      ]
    },
    {
      "cell_type": "code",
      "execution_count": 10,
      "id": "d00b5be5",
      "metadata": {
        "id": "d00b5be5"
      },
      "outputs": [],
      "source": [
        "class Block(nn.Module):\n",
        "    def __init__(self, config):\n",
        "        super(Block, self).__init__()\n",
        "        self.ln1 = nn.LayerNorm(config.embed_size)\n",
        "        self.ln2 = nn.LayerNorm(config.embed_size)\n",
        "        self.mlp = Mlp(config)\n",
        "        self.self_attn = SelfAttentionBlock(config)\n",
        "\n",
        "    def forward(self, x):\n",
        "        ## TODO: Implement the forward pass of the block\n",
        "        x = x + self.self_attn(self.ln1(x))\n",
        "        x = x + self.mlp(self.ln2(x))\n",
        "        return x\n"
      ]
    },
    {
      "cell_type": "markdown",
      "id": "fb1274aa",
      "metadata": {
        "id": "fb1274aa"
      },
      "source": [
        "## Transformer Model\n",
        "\n",
        "\n",
        "The `GPT2` class represents the complete transformer model - a decoder-only architecture that processes text and predicts the next token. This is the full model that combines all the components you've built.\n",
        "\n",
        "### Model Architecture Overview\n",
        "\n",
        "**Embedding Layers**: Convert discrete tokens into continuous vector representations that the neural network can process.\n",
        "\n",
        "**Transformer Stack**: Multiple transformer blocks stacked together, each refining the representations further.\n",
        "\n",
        "**Output Layer**: Converts the final representations back to vocabulary predictions for next-token generation.\n",
        "\n",
        "### Core Components\n",
        "\n",
        "**Token Embedding (`wte`)**: Maps each vocabulary word to a learned vector representation. Transforms token IDs into dense embeddings of size `embed_size`.\n",
        "\n",
        "**Position Embedding (`wpe`)**: Adds positional information since attention doesn't inherently understand word order. Each position gets its own learned embedding.\n",
        "\n",
        "**Transformer Blocks**: Stack of identical blocks (typically 12-48 layers) that progressively refine the representations through attention and feed-forward processing.\n",
        "\n",
        "**Final Layer Norm (`ln_f`)**: Normalizes the output from all transformer blocks before making predictions.\n",
        "\n",
        "**Language Model Head (`lm_head`)**: Linear layer that converts final embeddings back to vocabulary logits for next-token prediction.\n",
        "\n",
        "### Forward Pass Flow\n",
        "\n",
        "**Input Processing**:\n",
        "1. Convert token IDs to embeddings\n",
        "2. Add positional embeddings to provide sequence order information\n",
        "3. Combine token and position embeddings element-wise\n",
        "\n",
        "**Transformer Processing**:\n",
        "- Pass through each transformer block sequentially\n",
        "- Each block applies attention and MLP with residual connections\n",
        "- Representations become increasingly sophisticated through the stack\n",
        "\n",
        "**Output Generation**:\n",
        "1. Apply final normalization to stabilize outputs\n",
        "2. Project to vocabulary size using the language model head\n",
        "3. Compute loss against targets if provided for training\n",
        "\n",
        "### Key Design Decisions\n",
        "\n",
        "**Weight Sharing**: The token embedding and output projection share the same weights, reducing parameters and creating symmetry between input and output representations.\n",
        "\n",
        "**Autoregressive Training**: During training, the model predicts each position based only on previous positions, learning the sequential nature of language.\n",
        "\n",
        "**Next-Token Prediction**: The fundamental task is predicting the probability distribution over the vocabulary for what token should come next at each position.\n",
        "\n",
        "This architecture enables the model to generate coherent text by learning statistical patterns in language through the simple but powerful objective of next-token prediction."
      ]
    },
    {
      "cell_type": "code",
      "execution_count": 11,
      "id": "e3ba1966",
      "metadata": {
        "id": "e3ba1966"
      },
      "outputs": [],
      "source": [
        "class GPT2(nn.Module):\n",
        "    def __init__(self, config):\n",
        "        super(GPT2, self).__init__()\n",
        "        self.config = config\n",
        "        self.transformer = nn.ModuleDict(dict(\n",
        "            wte = nn.Embedding(config.vocab_size, config.embed_size), # token embeddings\n",
        "            wpe = nn.Embedding(config.max_len, config.embed_size), # positional embeddings\n",
        "            blocks = nn.ModuleList([Block(config) for _ in range(config.num_layers)]), # transformer blocks\n",
        "            ln_f = nn.LayerNorm(config.embed_size)\n",
        "            )\n",
        "        )\n",
        "        self.lm_head = nn.Linear(config.embed_size, config.vocab_size) # output layer for next token prediction\n",
        "\n",
        "        # sharing weights between token embedding and output layer\n",
        "        self.transformer.wte.weight = self.lm_head.weight # this allows the model to use the same embeddings for input and output tokens\n",
        "\n",
        "    def forward(self, idx, target=None):\n",
        "        \"\"\" Forward pass of the GPT-2 model.\n",
        "        Args:            idx: Input tensor of shape (B, T) where B is batch size and T is sequence length\n",
        "            target: Optional target tensor of shape (B, T) for computing loss\n",
        "        Returns:            logits: Output tensor of shape (B, T, vocab_size) containing logits for next token\n",
        "            loss: Optional scalar loss value if target is provided\n",
        "        \"\"\"\n",
        "        B, T = idx.shape\n",
        "        assert T <= self.config.block_size, f\"Input tokens length {T} exceeds maximum length {self.config.block_size}\"\n",
        "\n",
        "        # TODO: Implement the forward pass of the GPT-2 model.\n",
        "\n",
        "        # Get positional embeddings for the sequence length\n",
        "        pos = torch.arange(T, device=idx.device, dtype=torch.long)  # (T,)\n",
        "        pos_emb = self.transformer.wpe(pos)  # (T, embed_size)\n",
        "\n",
        "        # Get token embeddings\n",
        "        tok_emb = self.transformer.wte(idx)  # (B, T, embed_size)\n",
        "\n",
        "        # Combine token and positional embeddings\n",
        "        x = tok_emb + pos_emb  # (B, T, embed_size)\n",
        "\n",
        "        # Pass through transformer blocks\n",
        "        for block in self.transformer.blocks:\n",
        "            x = block(x)\n",
        "\n",
        "        # Apply final layer normalization\n",
        "        x = self.transformer.ln_f(x)\n",
        "\n",
        "        # Project to vocabulary size\n",
        "        logits = self.lm_head(x)  # (B, T, vocab_size)\n",
        "\n",
        "        # Compute loss if targets are provided\n",
        "        loss = None\n",
        "        if target is not None:\n",
        "            loss = F.cross_entropy(logits.view(-1, logits.size(-1)), target.view(-1))\n",
        "\n",
        "        return logits, loss\n",
        "\n",
        "    def save_model(self, path):\n",
        "        torch.save(self.state_dict(), path)\n",
        "\n",
        "    def load_model(self, path):\n",
        "        self.load_state_dict(torch.load(path))\n"
      ]
    },
    {
      "cell_type": "markdown",
      "id": "beed0f77",
      "metadata": {
        "id": "beed0f77"
      },
      "source": [
        "## Text Generation\n"
      ]
    },
    {
      "cell_type": "markdown",
      "id": "2030245e",
      "metadata": {
        "id": "2030245e"
      },
      "source": [
        "### Sampling Strategies\n",
        "\n",
        "How we convert these probabilities into actual text generation:\n",
        "\n",
        "#### 1. Greedy Decoding\n",
        "```python\n",
        "# Always pick the highest probability token\n",
        "def greedy_sample(logits):\n",
        "    return torch.argmax(logits, dim=-1)\n",
        "\n",
        "# Result: Deterministic but potentially repetitive\n",
        "```\n",
        "\n",
        "#### 2. Temperature Sampling\n",
        "```python\n",
        "# Control randomness with temperature\n",
        "def temperature_sample(logits, temperature=0.8):\n",
        "    # Higher temperature = more random\n",
        "    # Lower temperature = more focused\n",
        "    scaled_logits = logits / temperature\n",
        "    probs = torch.softmax(scaled_logits, dim=-1)\n",
        "    return torch.multinomial(probs, num_samples=1)\n",
        "\n",
        "# Temperature effects:\n",
        "# T=0.1: \"To be or not to be, that is the question\"  (very predictable)\n",
        "# T=0.8: \"To be or not to be, that troubles the mind\"  (creative but coherent)\n",
        "# T=2.0: \"To be or not to fish, purple dreams loudly\"  (too random)\n",
        "```\n",
        "\n",
        "#### 3. Top-k Sampling\n",
        "```python\n",
        "# Only consider the k most likely tokens\n",
        "def top_k_sample(logits, k=50):\n",
        "    values, indices = torch.topk(logits, k)\n",
        "    probs = torch.softmax(values, dim=-1)\n",
        "    next_token = torch.multinomial(probs, num_samples=1)\n",
        "    return indices[next_token]\n",
        "```"
      ]
    },
    {
      "cell_type": "markdown",
      "id": "078605dd",
      "metadata": {
        "id": "078605dd"
      },
      "source": [
        "Implement a top-k sampling  function to generate text from the model.\n",
        "\n"
      ]
    },
    {
      "cell_type": "code",
      "execution_count": 12,
      "id": "0954f313",
      "metadata": {
        "id": "0954f313"
      },
      "outputs": [],
      "source": [
        "def pipeline(model, tokenizer, k=10):\n",
        "    \"\"\"    Create a text generation pipeline for the given model and tokenizer.\n",
        "    Args:\n",
        "        model: The trained model instance\n",
        "        tokenizer: The tokenizer instance\n",
        "        k: Number of top-k tokens to sample from at each step (default: 10)\n",
        "    Returns:A function that takes a prompt and generates text\"\"\"\n",
        "    # step-by-step explanation of the pipeline function:\n",
        "    \"\"\"\n",
        "    1. Set the model to evaluation mode\n",
        "    2. Encode the input prompt using the tokenizer\n",
        "    3. Convert the encoded prompt to a tensor and move it to the model's device\n",
        "    4. While the length of the generated sequence is less than max_len:\n",
        "        a. Get the model's logits for the last token in the sequence\n",
        "        b. Extract the logits for the last token and apply softmax to get probabilities\n",
        "        v. Use top-k sampling to select the next token based on probabilities\n",
        "        d. Append the selected token to the sequence\n",
        "    5. Decode the generated sequence back to text using the tokenizer\n",
        "    6. Return the generated text\n",
        "    \"\"\"\n",
        "    def generate(prompt, max_len=1024):\n",
        "        model.eval()\n",
        "        with torch.no_grad():\n",
        "            # Encode the prompt\n",
        "            x = torch.tensor(tokenizer.encode(prompt)).unsqueeze(0).to(model.config.device)\n",
        "\n",
        "            # Generate tokens\n",
        "            for _ in range(max_len):\n",
        "                # Limit sequence length to block_size\n",
        "                if x.size(1) >= model.config.block_size:\n",
        "                    x = x[:, -model.config.block_size:]\n",
        "\n",
        "                # Get model predictions\n",
        "                logits, _ = model(x)\n",
        "\n",
        "                # Extract logits for the last token only (next token prediction)\n",
        "                last_token_logits = logits[:, -1, :]  # Shape: (B, vocab_size)\n",
        "\n",
        "                # Apply top k sampling\n",
        "                next_token = top_k_sample(last_token_logits, k)\n",
        "\n",
        "                # Append the new token\n",
        "                x = torch.cat([x, next_token], dim=1)\n",
        "\n",
        "            # Decode and return the generated text\n",
        "            generated_tokens = x[0].tolist()\n",
        "            generated_text = tokenizer.decode(generated_tokens)\n",
        "            return generated_text\n",
        "\n",
        "    return generate\n",
        "\n",
        "def top_k_sample(logits, k=50):\n",
        "    \"\"\"Fixed top-k sampling function\"\"\"\n",
        "    # Get top k values and indices\n",
        "    values, indices = torch.topk(logits, k, dim=-1)\n",
        "\n",
        "    # Apply softmax to get probabilities\n",
        "    probs = torch.softmax(values, dim=-1)\n",
        "\n",
        "    # Sample from the top-k distribution\n",
        "    next_token_idx = torch.multinomial(probs, num_samples=1)\n",
        "\n",
        "    # Use gather to select the actual token index - THIS IS THE FIX\n",
        "    next_token = indices.gather(-1, next_token_idx)\n",
        "\n",
        "    return next_token\n"
      ]
    },
    {
      "cell_type": "markdown",
      "id": "37dff197",
      "metadata": {
        "id": "37dff197"
      },
      "source": [
        "### Conig the Transformer Model"
      ]
    },
    {
      "cell_type": "code",
      "execution_count": 13,
      "id": "ee3dd390",
      "metadata": {
        "id": "ee3dd390"
      },
      "outputs": [],
      "source": [
        "# This is the most minmal config class for GPT-2 (Takes 40-60 to train). You are welcome to modify it to a bigger model or for loger but no the other way around (expet of batch size which you can reduce if you run out of memory)\n",
        "class GPT2Config:\n",
        "    def __init__(self):\n",
        "        self.embed_size = 64\n",
        "        self.num_heads = 2\n",
        "        self.num_layers = 4\n",
        "        self.vocab_size = len(tokenizer)\n",
        "        self.block_size = 256\n",
        "        self.max_len = 256\n",
        "        self.lr = 3e-4\n",
        "        self.batch_size = 32 # use a smaller batch size if you run out of memory\n",
        "        self.device = 'cuda' if torch.cuda.is_available() else 'cpu'\n",
        "        self.path = 'models/model.pth'\n",
        "        self.num_epochs = 10\n",
        "\n",
        "        self.patience = 5  # Early stopping patience\n",
        "        self.grad_clip = 1.0  # Gradient clipping threshold\n",
        "\n",
        "        # Learning rate scheduler configs\n",
        "        self.use_scheduler = True\n",
        "        self.scheduler_type = 'reduce_on_plateau'  # 'reduce_on_plateau', 'cosine', 'step'\n",
        "        self.lr_patience = 2  # For ReduceLROnPlateau\n",
        "        self.lr_factor = 0.5  # For ReduceLROnPlateau\n",
        "        self.step_size = 1  # For StepLR\n",
        "        self.gamma = 0.1  # For StepLR"
      ]
    },
    {
      "cell_type": "markdown",
      "id": "3202876e",
      "metadata": {
        "id": "3202876e"
      },
      "source": [
        "## Traninig"
      ]
    },
    {
      "cell_type": "code",
      "execution_count": 14,
      "id": "f822ddc5",
      "metadata": {
        "id": "f822ddc5"
      },
      "outputs": [],
      "source": [
        "# traning function\n",
        "def train_model(model, train_loader, val_loader, optimizer, config=None):\n",
        "\n",
        "    # Setup\n",
        "    model.train()\n",
        "    summary_writer = SummaryWriter(log_dir='runs/shakespeare_experiment')\n",
        "\n",
        "    # Create models directory\n",
        "    os.makedirs('models', exist_ok=True)\n",
        "\n",
        "    # Training state tracking\n",
        "    best_val_loss = float('inf')\n",
        "    patience_counter = 0\n",
        "    patience = getattr(config, 'patience', 5)  # Early stopping patience\n",
        "\n",
        "    # Loss tracking\n",
        "    train_losses = deque(maxlen=1000)\n",
        "    global_step = 0\n",
        "\n",
        "    print(\"Starting training...\")\n",
        "    print(f\"Training for {config.num_epochs} epochs\")\n",
        "    print(f\"Training batches: {len(train_loader)}, Validation batches: {len(val_loader)}\")\n",
        "\n",
        "    for epoch in range(config.num_epochs):\n",
        "        print(f\"\\nEpoch {epoch + 1}/{config.num_epochs}\")\n",
        "\n",
        "        # Training phase\n",
        "        model.train()\n",
        "        epoch_train_losses = []\n",
        "\n",
        "        with tqdm(train_loader, desc=f\"Training Epoch {epoch + 1}\") as pbar:\n",
        "            for batch_idx, (x, y) in enumerate(pbar):\n",
        "                x, y = x.to(config.device), y.to(config.device)\n",
        "\n",
        "                # Forward pass\n",
        "                optimizer.zero_grad()\n",
        "                logits, loss = model(x, y)\n",
        "\n",
        "                # Backward pass\n",
        "                loss.backward()\n",
        "\n",
        "                # Gradient clipping (optional but recommended)\n",
        "                if hasattr(config, 'grad_clip') and config.grad_clip > 0:\n",
        "                    torch.nn.utils.clip_grad_norm_(model.parameters(), config.grad_clip)\n",
        "\n",
        "                optimizer.step()\n",
        "\n",
        "                # Track losses\n",
        "                loss_item = loss.item()\n",
        "                train_losses.append(loss_item)\n",
        "                epoch_train_losses.append(loss_item)\n",
        "\n",
        "                # Update progress bar\n",
        "                pbar.set_postfix({\n",
        "                    'loss': f\"{loss_item:.4f}\",\n",
        "                    'avg_loss': f\"{np.mean(train_losses):.4f}\",\n",
        "                    'lr': f\"{optimizer.param_groups[0]['lr']:.2e}\"\n",
        "                })\n",
        "\n",
        "                # Log to tensorboard every N steps\n",
        "                if global_step % 10 == 0:  # Log every 10 steps\n",
        "                    summary_writer.add_scalar('Loss/train_step', loss_item, global_step)\n",
        "                    summary_writer.add_scalar('Learning_Rate', optimizer.param_groups[0]['lr'], global_step)\n",
        "\n",
        "                global_step += 1\n",
        "\n",
        "        # Validation phase\n",
        "        model.eval()\n",
        "        val_losses = []\n",
        "\n",
        "        with torch.no_grad():\n",
        "            with tqdm(val_loader, desc=f\"Validation Epoch {epoch + 1}\", leave=False) as val_pbar:\n",
        "                for x, y in val_loader:\n",
        "                    x, y = x.to(config.device), y.to(config.device)\n",
        "                    logits, loss = model(x, y)\n",
        "                    val_losses.append(loss.item())\n",
        "                    val_pbar.set_postfix({'val_loss': f\"{loss.item():.4f}\"})\n",
        "\n",
        "        # Calculate epoch metrics\n",
        "        avg_train_loss = np.mean(epoch_train_losses)\n",
        "        avg_val_loss = np.mean(val_losses)\n",
        "\n",
        "        # Log epoch metrics\n",
        "        summary_writer.add_scalar('Loss/train_epoch', avg_train_loss, epoch)\n",
        "        summary_writer.add_scalar('Loss/validation_epoch', avg_val_loss, epoch)\n",
        "\n",
        "        print(f\"Epoch {epoch + 1} - Train Loss: {avg_train_loss:.4f}, Val Loss: {avg_val_loss:.4f}\")\n",
        "\n",
        "\n",
        "        # Model checkpointing\n",
        "        checkpoint = {\n",
        "            'epoch': epoch,\n",
        "            'model_state_dict': model.state_dict(),\n",
        "            'optimizer_state_dict': optimizer.state_dict(),\n",
        "            'train_loss': avg_train_loss,\n",
        "            'val_loss': avg_val_loss,\n",
        "            'global_step': global_step\n",
        "        }\n",
        "\n",
        "        # Save best model\n",
        "        if avg_val_loss < best_val_loss:\n",
        "            best_val_loss = avg_val_loss\n",
        "            patience_counter = 0\n",
        "            torch.save(checkpoint, os.path.join('models', 'best_model.pt'))\n",
        "            print(f\"New best model saved! Val loss: {best_val_loss:.4f}\")\n",
        "        else:\n",
        "            patience_counter += 1\n",
        "\n",
        "        # Save regular checkpoint\n",
        "        torch.save(checkpoint, os.path.join('models', f'checkpoint_epoch_{epoch}.pt'))\n",
        "\n",
        "        # Early stopping\n",
        "        if patience_counter >= patience:\n",
        "            print(f\"Early stopping triggered after {patience} epochs without improvement\")\n",
        "            break\n",
        "\n",
        "        # Save latest model using your custom save method\n",
        "        if hasattr(model, 'save_model'):\n",
        "            model.save_model(config.path)\n",
        "\n",
        "    # Final logging\n",
        "    summary_writer.close()\n",
        "    print(\"Training complete!\")\n",
        "    print(f\"Best validation loss: {best_val_loss:.4f}\")\n",
        "\n",
        "    return {\n",
        "        'best_val_loss': best_val_loss,\n",
        "        'final_train_loss': avg_train_loss,\n",
        "        'final_val_loss': avg_val_loss,\n",
        "        'epochs_trained': epoch + 1\n",
        "    }\n",
        "\n",
        "def estimate_loss(model, eval_iters, data_loaders={}):\n",
        "    \"\"\"        Estimate the loss of the model on the given splits.\n",
        "    Args:\n",
        "        model: The model to evaluate\n",
        "        eval_iters: Number of iterations to average the loss over\n",
        "        splits: List of dataset splits to evaluate (e.g., 'train', 'validation')\n",
        "        data_loader: DataLoader instance for fetching batches\n",
        "    Returns:\n",
        "        out: Dictionary with average loss for each split\n",
        "    \"\"\"\n",
        "    with torch.no_grad():\n",
        "        out = {}\n",
        "        model.eval()\n",
        "        for split, dl in data_loaders.items():\n",
        "            losses = 0\n",
        "            for i in range(eval_iters):\n",
        "                x, y = next(iter(dl))\n",
        "                x, y = x.to(model.config.device), y.to(model.config.device)\n",
        "                _, loss = model(x, y)\n",
        "                losses += loss.item()\n",
        "            out[split] = losses / eval_iters\n",
        "        model.train()\n",
        "    return out"
      ]
    },
    {
      "cell_type": "code",
      "execution_count": 15,
      "id": "a5bfaee8",
      "metadata": {
        "colab": {
          "base_uri": "https://localhost:8080/"
        },
        "id": "a5bfaee8",
        "outputId": "39746905-bc2d-4a89-fcca-76017450b3e0"
      },
      "outputs": [
        {
          "name": "stdout",
          "output_type": "stream",
          "text": [
            "device: cuda\n",
            "Total parameters: 221,843\n"
          ]
        }
      ],
      "source": [
        "# init config and datasets\n",
        "con = GPT2Config()\n",
        "train_dataset = ShakespeareDataset(train_data, con.block_size)\n",
        "val_dataset = ShakespeareDataset(val_data, con.block_size)\n",
        "train_loader = DataLoader(\n",
        "    train_dataset,\n",
        "    batch_size=con.batch_size,\n",
        "    shuffle=shuffle_train,\n",
        "    num_workers=4,\n",
        "    drop_last=True  # Drop last incomplete batch for consistent batch sizes\n",
        ")\n",
        "\n",
        "val_loader = DataLoader(\n",
        "    val_dataset,\n",
        "    batch_size=con.batch_size,\n",
        "    shuffle=False,  # Don't shuffle validation data\n",
        "    num_workers=4,\n",
        "    drop_last=False\n",
        ")\n",
        "\n",
        "\n",
        "model = GPT2(con)\n",
        "model.to(con.device)\n",
        "print(f\"device: {con.device}\")\n",
        "optimizer = torch.optim.Adam(model.parameters(), lr=con.lr)\n",
        "\n",
        "total_params = 0\n",
        "for name, param in model.named_parameters():\n",
        "    total_params += param.numel()\n",
        "print(f\"Total parameters: {total_params:,}\")"
      ]
    },
    {
      "cell_type": "code",
      "execution_count": 16,
      "id": "e7dd3da7",
      "metadata": {
        "colab": {
          "base_uri": "https://localhost:8080/"
        },
        "id": "e7dd3da7",
        "outputId": "9da446e6-cec6-40d7-a144-50f385a1f0d3"
      },
      "outputs": [
        {
          "name": "stdout",
          "output_type": "stream",
          "text": [
            "Starting training...\n",
            "Training for 10 epochs\n",
            "Training batches: 178521, Validation batches: 19829\n",
            "\n",
            "Epoch 1/10\n"
          ]
        },
        {
          "name": "stderr",
          "output_type": "stream",
          "text": [
            "Training Epoch 1: 100%|██████████| 178521/178521 [39:03<00:00, 76.16it/s, loss=1.3736, avg_loss=1.3623, lr=3.00e-04]\n"
          ]
        },
        {
          "name": "stdout",
          "output_type": "stream",
          "text": [
            "Epoch 1 - Train Loss: 1.5277, Val Loss: 1.5483\n",
            "New best model saved! Val loss: 1.5483\n",
            "\n",
            "Epoch 2/10\n"
          ]
        },
        {
          "name": "stderr",
          "output_type": "stream",
          "text": [
            "Training Epoch 2: 100%|██████████| 178521/178521 [39:12<00:00, 75.89it/s, loss=1.3000, avg_loss=1.2968, lr=3.00e-04]\n"
          ]
        },
        {
          "name": "stdout",
          "output_type": "stream",
          "text": [
            "Epoch 2 - Train Loss: 1.3239, Val Loss: 1.4844\n",
            "New best model saved! Val loss: 1.4844\n",
            "\n",
            "Epoch 3/10\n"
          ]
        },
        {
          "name": "stderr",
          "output_type": "stream",
          "text": [
            "Training Epoch 3: 100%|██████████| 178521/178521 [38:59<00:00, 76.30it/s, loss=1.2444, avg_loss=1.2626, lr=3.00e-04]\n"
          ]
        },
        {
          "name": "stdout",
          "output_type": "stream",
          "text": [
            "Epoch 3 - Train Loss: 1.2780, Val Loss: 1.4506\n",
            "New best model saved! Val loss: 1.4506\n",
            "\n",
            "Epoch 4/10\n"
          ]
        },
        {
          "name": "stderr",
          "output_type": "stream",
          "text": [
            "Training Epoch 4: 100%|██████████| 178521/178521 [40:58<00:00, 72.61it/s, loss=1.2459, avg_loss=1.2392, lr=3.00e-04]\n"
          ]
        },
        {
          "name": "stdout",
          "output_type": "stream",
          "text": [
            "Epoch 4 - Train Loss: 1.2490, Val Loss: 1.4268\n",
            "New best model saved! Val loss: 1.4268\n",
            "\n",
            "Epoch 5/10\n"
          ]
        },
        {
          "name": "stderr",
          "output_type": "stream",
          "text": [
            "Training Epoch 5: 100%|██████████| 178521/178521 [41:42<00:00, 71.32it/s, loss=1.1792, avg_loss=1.2196, lr=3.00e-04]\n"
          ]
        },
        {
          "name": "stdout",
          "output_type": "stream",
          "text": [
            "Epoch 5 - Train Loss: 1.2285, Val Loss: 1.4063\n",
            "New best model saved! Val loss: 1.4063\n",
            "\n",
            "Epoch 6/10\n"
          ]
        },
        {
          "name": "stderr",
          "output_type": "stream",
          "text": [
            "Training Epoch 6: 100%|██████████| 178521/178521 [39:11<00:00, 75.92it/s, loss=1.1835, avg_loss=1.2012, lr=3.00e-04]\n"
          ]
        },
        {
          "name": "stdout",
          "output_type": "stream",
          "text": [
            "Epoch 6 - Train Loss: 1.2100, Val Loss: 1.3936\n",
            "New best model saved! Val loss: 1.3936\n",
            "\n",
            "Epoch 7/10\n"
          ]
        },
        {
          "name": "stderr",
          "output_type": "stream",
          "text": [
            "Training Epoch 7: 100%|██████████| 178521/178521 [39:34<00:00, 75.17it/s, loss=1.1998, avg_loss=1.1888, lr=3.00e-04]\n"
          ]
        },
        {
          "name": "stdout",
          "output_type": "stream",
          "text": [
            "Epoch 7 - Train Loss: 1.1947, Val Loss: 1.3889\n",
            "New best model saved! Val loss: 1.3889\n",
            "\n",
            "Epoch 8/10\n"
          ]
        },
        {
          "name": "stderr",
          "output_type": "stream",
          "text": [
            "Training Epoch 8: 100%|██████████| 178521/178521 [39:40<00:00, 75.00it/s, loss=1.1980, avg_loss=1.1797, lr=3.00e-04]\n"
          ]
        },
        {
          "name": "stdout",
          "output_type": "stream",
          "text": [
            "Epoch 8 - Train Loss: 1.1845, Val Loss: 1.3779\n",
            "New best model saved! Val loss: 1.3779\n",
            "\n",
            "Epoch 9/10\n"
          ]
        },
        {
          "name": "stderr",
          "output_type": "stream",
          "text": [
            "Training Epoch 9: 100%|██████████| 178521/178521 [39:24<00:00, 75.49it/s, loss=1.1729, avg_loss=1.1743, lr=3.00e-04]\n"
          ]
        },
        {
          "name": "stdout",
          "output_type": "stream",
          "text": [
            "Epoch 9 - Train Loss: 1.1774, Val Loss: 1.3700\n",
            "New best model saved! Val loss: 1.3700\n",
            "\n",
            "Epoch 10/10\n"
          ]
        },
        {
          "name": "stderr",
          "output_type": "stream",
          "text": [
            "Training Epoch 10: 100%|██████████| 178521/178521 [39:33<00:00, 75.23it/s, loss=1.1733, avg_loss=1.1706, lr=3.00e-04]\n"
          ]
        },
        {
          "name": "stdout",
          "output_type": "stream",
          "text": [
            "Epoch 10 - Train Loss: 1.1722, Val Loss: 1.3704\n",
            "Training complete!\n",
            "Best validation loss: 1.3700\n"
          ]
        }
      ],
      "source": [
        "# Creating an optimizer\n",
        "optimizer = torch.optim.AdamW(model.parameters(), lr=con.lr, weight_decay=0.01)\n",
        "\n",
        "# train the model\n",
        "results = train_model(model, train_loader, val_loader, optimizer, con)"
      ]
    },
    {
      "cell_type": "code",
      "execution_count": 1,
      "id": "89517e6e",
      "metadata": {
        "colab": {
          "base_uri": "https://localhost:8080/",
          "height": 159
        },
        "id": "89517e6e",
        "outputId": "e09a89fe-6be5-4f15-c841-94ac23300b84"
      },
      "outputs": [
        {
          "ename": "NameError",
          "evalue": "name 'pipeline' is not defined",
          "output_type": "error",
          "traceback": [
            "\u001b[0;31m---------------------------------------------------------------------------\u001b[0m",
            "\u001b[0;31mNameError\u001b[0m                                 Traceback (most recent call last)",
            "\u001b[0;32m/tmp/ipython-input-2315404305.py\u001b[0m in \u001b[0;36m<cell line: 0>\u001b[0;34m()\u001b[0m\n\u001b[0;32m----> 1\u001b[0;31m \u001b[0mgenerator\u001b[0m \u001b[0;34m=\u001b[0m \u001b[0mpipeline\u001b[0m\u001b[0;34m(\u001b[0m\u001b[0mmodel\u001b[0m\u001b[0;34m,\u001b[0m \u001b[0mtokenizer\u001b[0m\u001b[0;34m,\u001b[0m \u001b[0mk\u001b[0m\u001b[0;34m=\u001b[0m\u001b[0;36m10\u001b[0m\u001b[0;34m)\u001b[0m\u001b[0;34m\u001b[0m\u001b[0;34m\u001b[0m\u001b[0m\n\u001b[0m\u001b[1;32m      2\u001b[0m \u001b[0mprint\u001b[0m\u001b[0;34m(\u001b[0m\u001b[0mgenerator\u001b[0m\u001b[0;34m(\u001b[0m\u001b[0;34m'to be or not to be'\u001b[0m\u001b[0;34m,\u001b[0m \u001b[0mmax_len\u001b[0m\u001b[0;34m=\u001b[0m\u001b[0;36m1024\u001b[0m\u001b[0;34m)\u001b[0m\u001b[0;34m)\u001b[0m\u001b[0;34m\u001b[0m\u001b[0;34m\u001b[0m\u001b[0m\n",
            "\u001b[0;31mNameError\u001b[0m: name 'pipeline' is not defined"
          ]
        }
      ],
      "source": [
        "generator = pipeline(model, tokenizer, k=10)\n",
        "print(generator('to be or not to be', max_len=1024))"
      ]
    },
    {
      "cell_type": "code",
      "execution_count": 17,
      "id": "RLQup67T56kv",
      "metadata": {
        "id": "RLQup67T56kv"
      },
      "outputs": [],
      "source": []
    }
  ],
  "metadata": {
    "accelerator": "GPU",
    "colab": {
      "gpuType": "L4",
      "provenance": []
    },
    "kernelspec": {
      "display_name": ".venv",
      "language": "python",
      "name": "python3"
    },
    "language_info": {
      "codemirror_mode": {
        "name": "ipython",
        "version": 3
      },
      "file_extension": ".py",
      "mimetype": "text/x-python",
      "name": "python",
      "nbconvert_exporter": "python",
      "pygments_lexer": "ipython3",
      "version": "3.13.3"
    }
  },
  "nbformat": 4,
  "nbformat_minor": 5
}
